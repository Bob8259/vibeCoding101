{
  "cells": [
    {
      "cell_type": "markdown",
      "metadata": {},
      "source": [
        "# GitHub Copilot Agent Workshop\n",
        "## Introduction to AI-Powered Research Tools\n",
        "\n",
        "**Date**: October 2nd, 2024  \n",
        "**Time**: 3:30 PM  \n",
        "**Location**: OEW 703  \n",
        "**Target Audience**: Chinese Medicine Students  \n",
        "\n",
        "---\n",
        "\n",
        "### Workshop Objectives\n",
        "- [ ] Understand the difference between browser AI and Agent AI\n",
        "- [ ] Learn to use GitHub Copilot Agent for research tasks\n",
        "- [ ] Practice file processing and document manipulation\n",
        "- [ ] Explore Chinese medicine literature databases\n",
        "- [ ] Build automated research workflows\n"
      ]
    },
    {
      "cell_type": "markdown",
      "metadata": {},
      "source": [
        "## Part 1: Introduction and Setup (30 minutes)\n",
        "\n",
        "### 1.1 Welcome and Workshop Objectives\n",
        "\n",
        "Welcome to the GitHub Copilot Agent workshop! Today we'll explore how AI can transform your research workflow.\n",
        "\n",
        "**Key Question**: What's the difference between talking to AI in a browser vs. having an AI agent that can directly access your files?\n",
        "\n",
        "**Your Task**: Think about a recent research task where you had to copy-paste between different applications. How could an AI agent help streamline this process?\n"
      ]
    },
    {
      "cell_type": "markdown",
      "metadata": {},
      "source": [
        "### 1.2 GitHub Account Setup\n",
        "\n",
        "**Step 1**: Create a GitHub account (if you don't have one)\n",
        "- Go to [github.com](https://github.com)\n",
        "- Sign up with your university email\n",
        "\n",
        "**Step 2**: Apply for GitHub Education benefits\n",
        "- Visit: https://docs.github.com/en/education/about-github-education/github-education-for-students/apply-to-github-education-as-a-student\n",
        "- This gives you free access to GitHub Copilot Agent\n",
        "\n",
        "**Alternative**: If you can't get education benefits immediately, we'll provide shared API keys for today's workshop.\n",
        "\n",
        "**Your Task**: Complete the GitHub account setup and note any questions you have.\n"
      ]
    },
    {
      "cell_type": "markdown",
      "metadata": {},
      "source": [
        "### 1.3 Environment Setup (Optional - We'll do this later)\n",
        "\n",
        "**Note**: We'll start by learning to interact with the AI Agent first. Python environment setup can be done later if needed.\n",
        "\n",
        "**For now**: Let's focus on learning how to communicate with the AI Agent effectively.\n"
      ]
    },
    {
      "cell_type": "code",
      "execution_count": null,
      "metadata": {},
      "outputs": [],
      "source": [
        "# SKIP THIS CELL FOR NOW - We'll come back to Python setup later\n",
        "# Focus on learning AI Agent interaction first!\n",
        "\n",
        "print(\"🤖 Let's start by learning how to interact with the AI Agent!\")\n",
        "print(\"💡 We'll learn Python coding after we master Agent communication.\")\n",
        "print(\"📝 For now, just observe and take notes on how the Agent works.\")\n"
      ]
    },
    {
      "cell_type": "markdown",
      "metadata": {},
      "source": [
        "**Your Task**: Run the cell above and check that all packages installed successfully. If you encounter any errors, let the instructor know.\n",
        "\n",
        "## Part 2: Core Concepts Demonstration (45 minutes)\n",
        "\n",
        "### 2.1 Browser AI vs Agent AI Comparison\n",
        "\n",
        "**Traditional Browser AI Limitations**:\n",
        "- Can't access your local files directly\n",
        "- Requires copy-pasting content\n",
        "- No context of your project structure\n",
        "- Limited to single conversation sessions\n",
        "\n",
        "**Agent AI Advantages**:\n",
        "- Direct access to your file system\n",
        "- Can read, edit, and create files\n",
        "- Maintains project context\n",
        "- Can execute code and see results\n",
        "\n",
        "**Your Task**: Try this comparison exercise:\n",
        "1. Create a simple text file with some research notes\n",
        "2. Ask a browser AI to summarize it (you'll need to copy-paste)\n",
        "3. Ask the Agent to read and summarize the same file directly\n",
        "4. Compare the experience and results\n"
      ]
    },
    {
      "cell_type": "code",
      "execution_count": null,
      "metadata": {},
      "outputs": [
        {
          "ename": "",
          "evalue": "",
          "output_type": "error",
          "traceback": [
            "\u001b[1;31mRunning cells with '.venv (Python 3.11.11)' requires the ipykernel package.\n",
            "\u001b[1;31mInstall 'ipykernel' into the Python environment. \n",
            "\u001b[1;31mCommand: '\"/Users/simonwang/Library/CloudStorage/GoogleDrive-simonwanghkteacher@gmail.com/My Drive/Teaching for AY 25-26/GCAP3056/.venv/bin/python\" -m pip install ipykernel -U --force-reinstall'"
          ]
        }
      ],
      "source": [
        "# STEP 1: Let's create a simple text file using the AI Agent\n",
        "# Instead of writing Python code, we'll ask the Agent to do it!\n",
        "\n",
        "print(\"🤖 TASK: Ask the AI Agent to create a research notes file\")\n",
        "print(\"💡 COPY AND PASTE this prompt to your AI Agent:\")\n",
        "print(\"\")\n",
        "print(\"📋 PROMPT TO COPY:\")\n",
        "print(\"Create a text file called research_notes.txt with some sample research notes about Traditional Chinese Medicine. Include key points about acupuncture, herbal medicine, and integration with Western medicine. Make it about 200 words.\")\n",
        "print(\"\")\n",
        "print(\"🎯 Learning Goal: See how the Agent can create files directly\")\n",
        "print(\"📋 After the Agent creates the file, copy and paste this prompt:\")\n",
        "print(\"Read the research_notes.txt file and tell me what it contains\")\n"
      ]
    },
    {
      "cell_type": "markdown",
      "metadata": {},
      "source": [
        "### 2.2 File System Integration - Learning to Communicate with the Agent\n",
        "\n",
        "**Your Task**: Practice giving clear instructions to the AI Agent by copying and pasting these prompts:\n",
        "\n",
        "**Step 1**: Ask the Agent to list files\n",
        "- **COPY THIS PROMPT**: `List all files in the current directory and show me what's available`\n",
        "- Observe how the Agent responds and what it shows you\n",
        "\n",
        "**Step 2**: Ask the Agent to read files\n",
        "- **COPY THIS PROMPT**: `Read the research_notes.txt file and tell me what it contains`\n",
        "- See how the Agent can access and summarize file contents\n",
        "\n",
        "**Step 3**: Ask the Agent to create new files\n",
        "- **COPY THIS PROMPT**: `Create a new file called 'research_questions.md' with 5 research questions about Traditional Chinese Medicine. Format each question clearly and include brief context.`\n",
        "- Watch how the Agent creates files automatically\n",
        "\n",
        "**Step 4**: Ask the Agent to edit existing files\n",
        "- **COPY THIS PROMPT**: `Add a new section to research_notes.txt with methodology considerations for TCM research. Include information about study design, data collection, and analysis methods.`\n",
        "- See how the Agent can modify existing files\n",
        "\n",
        "**🎯 Learning Goals**:\n",
        "- Practice clear communication with the Agent\n",
        "- Learn how to give specific instructions\n",
        "- Understand the Agent's file access capabilities\n",
        "- See the difference between Agent AI and browser AI\n"
      ]
    },
    {
      "cell_type": "markdown",
      "metadata": {},
      "source": [
        "## Part 3: Practical Applications (60 minutes)\n",
        "\n",
        "### 3.1 PDF to Markdown Conversion - Working with the Agent\n",
        "\n",
        "**Your Task**: Learn how to work with files using the AI Agent (no Python coding required!)\n",
        "\n",
        "**Step 1**: Ask the Agent to find the PDF file\n",
        "- **COPY THIS PROMPT**: `Look for a PDF file called reviewArticle.pdf in this directory and tell me the full file path`\n",
        "- The Agent will search and tell you where it found the file\n",
        "- Copy the file path the Agent provides\n",
        "\n",
        "**Step 2**: Ask the Agent to convert the PDF\n",
        "- **COPY THIS PROMPT**: `I have a PDF file at [paste the file path here]. Please convert this PDF to markdown format and save it as a new file called 'converted_article.md'. Make sure to preserve the structure and formatting.`\n",
        "- Watch how the Agent handles the conversion automatically\n",
        "\n",
        "**Step 3**: Ask the Agent to show you the results\n",
        "- **COPY THIS PROMPT**: `Show me the first 500 words of the converted markdown file and tell me about its structure`\n",
        "- See how the Agent can display file contents\n",
        "\n",
        "**🎯 Learning Goals**:\n",
        "- Learn to give the Agent specific file paths\n",
        "- See how the Agent can process different file types\n",
        "- Understand the Agent's file conversion capabilities\n",
        "- Practice clear communication about file operations\n"
      ]
    },
    {
      "cell_type": "code",
      "execution_count": null,
      "metadata": {},
      "outputs": [],
      "source": [
        "# COMPARISON ACTIVITY\n",
        "# Compare the results from all three approaches\n",
        "\n",
        "print(\"🔍 COMPARISON ACTIVITY\")\n",
        "print(\"\")\n",
        "print(\"📊 TASK: Compare your results from all three approaches\")\n",
        "print(\"\")\n",
        "print(\"📋 QUESTIONS TO CONSIDER:\")\n",
        "print(\"1. Which approach was fastest?\")\n",
        "print(\"2. Which approach gave the best results?\")\n",
        "print(\"3. Which approach was easiest to use?\")\n",
        "print(\"4. What are the advantages of each approach?\")\n",
        "print(\"5. When would you use each approach?\")\n",
        "print(\"\")\n",
        "print(\"💡 DISCUSSION POINTS:\")\n",
        "print(\"- Direct AI: Quick but requires manual copy-paste\")\n",
        "print(\"- Structured Instructions: Automated and reusable but requires planning\")\n",
        "print(\"- Agent Processing: Most flexible but requires clear communication\")\n",
        "print(\"\")\n",
        "print(\"🎯 Learning Goal: Understand different AI workflow approaches\")\n",
        "print(\"📝 Take notes on your preferences and use cases\")\n"
      ]
    },
    {
      "cell_type": "markdown",
      "metadata": {},
      "source": [
        "**Your Task**: Once you've practiced with the Agent, try these advanced tasks by copying and pasting these prompts:\n",
        "\n",
        "1. **Ask the Agent to clean up the converted markdown**\n",
        "   - **COPY THIS PROMPT**: `Clean up the markdown formatting in the converted_article.md file. Fix any formatting issues, improve readability, ensure proper heading structure, and fix any broken links or references.`\n",
        "\n",
        "2. **Ask the Agent to extract citations**\n",
        "   - **COPY THIS PROMPT**: `Extract all citations and references from the converted_article.md file and create a properly formatted bibliography. Include author names, publication years, titles, and journal names where available.`\n",
        "\n",
        "3. **Ask the Agent to summarize the article**\n",
        "   - **COPY THIS PROMPT**: `Create a comprehensive summary of the converted_article.md with key points, main arguments, methodology, and conclusions. Format it as a structured summary with clear sections.`\n",
        "\n",
        "**🎯 Learning Goals**:\n",
        "- Practice giving complex instructions to the Agent\n",
        "- See how the Agent can process and analyze text\n",
        "- Learn to ask for specific outputs and formats\n",
        "- Understand the Agent's text processing capabilities\n",
        "\n",
        "---\n",
        "\n",
        "## Part 4: Python Environment Setup (Optional - Advanced Users)\n",
        "\n",
        "**Note**: This section is for students who want to learn Python coding with the Agent. If you're comfortable with the Agent interactions above, you can skip this section.\n",
        "\n",
        "### 4.1 Setting Up Python Environment\n",
        "\n",
        "**Your Task**: Ask the Agent to help you set up a Python environment for more advanced tasks.\n",
        "\n",
        "**AI Suggestion**: \"Help me set up a Python environment for data analysis. Install the necessary packages and create a simple test script.\"\n"
      ]
    },
    {
      "cell_type": "markdown",
      "metadata": {},
      "source": [
        "**Your Task**: Once you have the code, run it and check the results. How well did the conversion work? What issues do you notice?\n",
        "\n",
        "### 3.2 Document Cleanup and Processing\n",
        "\n",
        "**Your Task**: Use the Agent to clean up the converted markdown file.\n",
        "\n",
        "**AI Suggestion**: \"Clean up the markdown formatting in the converted file. Fix any formatting issues, improve readability, and ensure proper heading structure.\"\n"
      ]
    },
    {
      "cell_type": "markdown",
      "metadata": {},
      "source": [
        "## Part 5: Wrap-up and Next Steps (15 minutes)\n",
        "\n",
        "### 5.1 Reflection and Discussion\n",
        "\n",
        "**Your Task**: Reflect on today's workshop and share your thoughts:\n",
        "\n",
        "1. **What was most useful?** What features of the Agent impressed you most?\n",
        "2. **What challenges did you face?** What was difficult or confusing?\n",
        "3. **How will you use this?** How do you plan to use Agent AI in your studies?\n",
        "4. **What questions do you have?** What would you like to learn more about?\n",
        "\n",
        "**Your Notes**:\n",
        "\n",
        "---\n",
        "\n",
        "---\n",
        "\n",
        "---\n",
        "\n",
        "---\n"
      ]
    },
    {
      "cell_type": "markdown",
      "metadata": {},
      "source": [
        "### 5.2 Resources and Follow-up\n",
        "\n",
        "**Resources for Continued Learning**:\n",
        "- [GitHub Education Benefits](https://docs.github.com/en/education/about-github-education/github-education-for-students/apply-to-github-education-as-a-student)\n",
        "- [GitHub Copilot Agent Documentation](https://docs.github.com/en/copilot/github-copilot-agent)\n",
        "- [Python for Research](https://www.python.org/about/gettingstarted/)\n",
        "- [Jupyter Notebook Tutorial](https://jupyter-notebook.readthedocs.io/en/stable/notebook.html)\n",
        "\n",
        "**Next Steps**:\n",
        "- [ ] Complete your GitHub Education application\n",
        "- [ ] Practice using Agent AI with your own research projects\n",
        "- [ ] Join our weekly office hours for Agent-related questions\n",
        "- [ ] Attend the advanced workshop for interested students\n",
        "\n",
        "**Contact Information**:\n",
        "- **Instructor**: [Your Name]\n",
        "- **Email**: [Your Email]\n",
        "- **Office Hours**: [Schedule]\n",
        "\n",
        "**Thank you for participating in today's workshop!** 🎉\n"
      ]
    }
  ],
  "metadata": {
    "kernelspec": {
      "display_name": ".venv",
      "language": "python",
      "name": "python3"
    },
    "language_info": {
      "name": "python",
      "version": "3.11.11"
    }
  },
  "nbformat": 4,
  "nbformat_minor": 2
}
